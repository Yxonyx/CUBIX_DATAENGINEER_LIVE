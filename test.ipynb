{
 "cells": [
  {
   "cell_type": "code",
   "execution_count": 2,
   "id": "4abbe79c",
   "metadata": {},
   "outputs": [
    {
     "name": "stdout",
     "output_type": "stream",
     "text": [
      "hello\n"
     ]
    }
   ],
   "source": [
    "print (\"hello\")"
   ]
  },
  {
   "cell_type": "code",
   "execution_count": 3,
   "id": "f8cb694b",
   "metadata": {},
   "outputs": [],
   "source": [
    "import pandas as pd"
   ]
  },
  {
   "cell_type": "code",
   "execution_count": 4,
   "id": "40254f11",
   "metadata": {},
   "outputs": [],
   "source": [
    "from bs4 import BeautifulSoup\n",
    "import pandas as pd\n",
    "import requests\n"
   ]
  },
  {
   "cell_type": "code",
   "execution_count": 5,
   "id": "51f29ec1",
   "metadata": {},
   "outputs": [],
   "source": [
    "response = requests.get(\"https://en.wikipedia.org/wiki/Community_areas_in_Chicago\")\n",
    "\n",
    "\n",
    "soup = BeautifulSoup(response.content, \"html.parser\")"
   ]
  },
  {
   "cell_type": "code",
   "execution_count": 6,
   "id": "a0976e6f",
   "metadata": {},
   "outputs": [
    {
     "name": "stdout",
     "output_type": "stream",
     "text": [
      "Community areas in Chicago\n"
     ]
    }
   ],
   "source": [
    "title = soup.find(id=\"firstHeading\")\n",
    "print(title.string)\n"
   ]
  },
  {
   "cell_type": "code",
   "execution_count": 7,
   "id": "a7bafbbe",
   "metadata": {},
   "outputs": [
    {
     "name": "stdout",
     "output_type": "stream",
     "text": [
      "['wikitable', 'sortable', 'plainrowheaders', 'mw-datatable']\n",
      "['nowraplinks', 'mw-collapsible', 'autocollapse', 'navbox-inner']\n",
      "['nowraplinks', 'mw-collapsible', 'autocollapse', 'navbox-inner']\n",
      "['nowraplinks', 'hlist', 'mw-collapsible', 'autocollapse', 'navbox-inner']\n"
     ]
    }
   ],
   "source": [
    "for table in soup.find_all(\"table\"):\n",
    "    print(table.get(\"class\"))"
   ]
  },
  {
   "cell_type": "code",
   "execution_count": 21,
   "id": "d047a70d",
   "metadata": {},
   "outputs": [],
   "source": [
    "table = soup.find(\"table\", class_=\"wikitable sortable lainrowheaders mw-datatable\")\n",
    "table"
   ]
  },
  {
   "cell_type": "code",
   "execution_count": null,
   "id": "c8e8e2c4",
   "metadata": {},
   "outputs": [],
   "source": []
  }
 ],
 "metadata": {
  "kernelspec": {
   "display_name": "base",
   "language": "python",
   "name": "python3"
  },
  "language_info": {
   "codemirror_mode": {
    "name": "ipython",
    "version": 3
   },
   "file_extension": ".py",
   "mimetype": "text/x-python",
   "name": "python",
   "nbconvert_exporter": "python",
   "pygments_lexer": "ipython3",
   "version": "3.13.5"
  }
 },
 "nbformat": 4,
 "nbformat_minor": 5
}
